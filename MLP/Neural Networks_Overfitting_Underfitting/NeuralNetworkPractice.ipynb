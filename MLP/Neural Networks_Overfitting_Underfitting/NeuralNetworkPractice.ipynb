{
  "nbformat": 4,
  "nbformat_minor": 0,
  "metadata": {
    "colab": {
      "name": "NeuralNetworkPractice.ipynb",
      "provenance": [],
      "collapsed_sections": []
    },
    "kernelspec": {
      "name": "python3",
      "display_name": "Python 3"
    },
    "language_info": {
      "name": "python"
    }
  },
  "cells": [
    {
      "cell_type": "code",
      "execution_count": 1,
      "metadata": {
        "colab": {
          "base_uri": "https://localhost:8080/"
        },
        "id": "uymFQbopHpl8",
        "outputId": "149221ce-4e25-4d4b-fa04-a270a614864a"
      },
      "outputs": [
        {
          "output_type": "stream",
          "name": "stdout",
          "text": [
            "Mounted at /content/drive\n"
          ]
        }
      ],
      "source": [
        "from google.colab import drive\n",
        "drive.mount('/content/drive')"
      ]
    },
    {
      "cell_type": "code",
      "source": [
        "#Reference: https://machinelearningmastery.com/display-deep-learning-model-training-history-in-keras/\n",
        "from keras.models import Sequential\n",
        "from keras.layers import Dense\n",
        "import matplotlib.pyplot as plt\n",
        "import numpy\n",
        "import pandas as pd"
      ],
      "metadata": {
        "id": "4u0dtZHoUrL4"
      },
      "execution_count": 10,
      "outputs": []
    },
    {
      "cell_type": "code",
      "source": [
        "# load pima indians dataset\n",
        "dataset = pd.read_csv(\"/content/drive/MyDrive/Colab Notebooks/Files/Indian_diabetes.csv\")"
      ],
      "metadata": {
        "id": "46dw-SvsUsSE"
      },
      "execution_count": 11,
      "outputs": []
    },
    {
      "cell_type": "code",
      "source": [
        "dataset.head(2)"
      ],
      "metadata": {
        "colab": {
          "base_uri": "https://localhost:8080/",
          "height": 112
        },
        "id": "wCyIdt4eWe3-",
        "outputId": "4c544c25-dc51-4f6b-9eeb-072d4f787716"
      },
      "execution_count": 12,
      "outputs": [
        {
          "output_type": "execute_result",
          "data": {
            "text/html": [
              "\n",
              "  <div id=\"df-1e85b3cc-3ace-4064-92f7-3f807daff93a\">\n",
              "    <div class=\"colab-df-container\">\n",
              "      <div>\n",
              "<style scoped>\n",
              "    .dataframe tbody tr th:only-of-type {\n",
              "        vertical-align: middle;\n",
              "    }\n",
              "\n",
              "    .dataframe tbody tr th {\n",
              "        vertical-align: top;\n",
              "    }\n",
              "\n",
              "    .dataframe thead th {\n",
              "        text-align: right;\n",
              "    }\n",
              "</style>\n",
              "<table border=\"1\" class=\"dataframe\">\n",
              "  <thead>\n",
              "    <tr style=\"text-align: right;\">\n",
              "      <th></th>\n",
              "      <th>f1</th>\n",
              "      <th>f2</th>\n",
              "      <th>f3</th>\n",
              "      <th>f4</th>\n",
              "      <th>f5</th>\n",
              "      <th>f6</th>\n",
              "      <th>f7</th>\n",
              "      <th>f8</th>\n",
              "      <th>T</th>\n",
              "    </tr>\n",
              "  </thead>\n",
              "  <tbody>\n",
              "    <tr>\n",
              "      <th>0</th>\n",
              "      <td>6</td>\n",
              "      <td>148</td>\n",
              "      <td>72</td>\n",
              "      <td>35</td>\n",
              "      <td>0</td>\n",
              "      <td>33.6</td>\n",
              "      <td>0.627</td>\n",
              "      <td>50</td>\n",
              "      <td>1</td>\n",
              "    </tr>\n",
              "    <tr>\n",
              "      <th>1</th>\n",
              "      <td>1</td>\n",
              "      <td>85</td>\n",
              "      <td>66</td>\n",
              "      <td>29</td>\n",
              "      <td>0</td>\n",
              "      <td>26.6</td>\n",
              "      <td>0.351</td>\n",
              "      <td>31</td>\n",
              "      <td>0</td>\n",
              "    </tr>\n",
              "  </tbody>\n",
              "</table>\n",
              "</div>\n",
              "      <button class=\"colab-df-convert\" onclick=\"convertToInteractive('df-1e85b3cc-3ace-4064-92f7-3f807daff93a')\"\n",
              "              title=\"Convert this dataframe to an interactive table.\"\n",
              "              style=\"display:none;\">\n",
              "        \n",
              "  <svg xmlns=\"http://www.w3.org/2000/svg\" height=\"24px\"viewBox=\"0 0 24 24\"\n",
              "       width=\"24px\">\n",
              "    <path d=\"M0 0h24v24H0V0z\" fill=\"none\"/>\n",
              "    <path d=\"M18.56 5.44l.94 2.06.94-2.06 2.06-.94-2.06-.94-.94-2.06-.94 2.06-2.06.94zm-11 1L8.5 8.5l.94-2.06 2.06-.94-2.06-.94L8.5 2.5l-.94 2.06-2.06.94zm10 10l.94 2.06.94-2.06 2.06-.94-2.06-.94-.94-2.06-.94 2.06-2.06.94z\"/><path d=\"M17.41 7.96l-1.37-1.37c-.4-.4-.92-.59-1.43-.59-.52 0-1.04.2-1.43.59L10.3 9.45l-7.72 7.72c-.78.78-.78 2.05 0 2.83L4 21.41c.39.39.9.59 1.41.59.51 0 1.02-.2 1.41-.59l7.78-7.78 2.81-2.81c.8-.78.8-2.07 0-2.86zM5.41 20L4 18.59l7.72-7.72 1.47 1.35L5.41 20z\"/>\n",
              "  </svg>\n",
              "      </button>\n",
              "      \n",
              "  <style>\n",
              "    .colab-df-container {\n",
              "      display:flex;\n",
              "      flex-wrap:wrap;\n",
              "      gap: 12px;\n",
              "    }\n",
              "\n",
              "    .colab-df-convert {\n",
              "      background-color: #E8F0FE;\n",
              "      border: none;\n",
              "      border-radius: 50%;\n",
              "      cursor: pointer;\n",
              "      display: none;\n",
              "      fill: #1967D2;\n",
              "      height: 32px;\n",
              "      padding: 0 0 0 0;\n",
              "      width: 32px;\n",
              "    }\n",
              "\n",
              "    .colab-df-convert:hover {\n",
              "      background-color: #E2EBFA;\n",
              "      box-shadow: 0px 1px 2px rgba(60, 64, 67, 0.3), 0px 1px 3px 1px rgba(60, 64, 67, 0.15);\n",
              "      fill: #174EA6;\n",
              "    }\n",
              "\n",
              "    [theme=dark] .colab-df-convert {\n",
              "      background-color: #3B4455;\n",
              "      fill: #D2E3FC;\n",
              "    }\n",
              "\n",
              "    [theme=dark] .colab-df-convert:hover {\n",
              "      background-color: #434B5C;\n",
              "      box-shadow: 0px 1px 3px 1px rgba(0, 0, 0, 0.15);\n",
              "      filter: drop-shadow(0px 1px 2px rgba(0, 0, 0, 0.3));\n",
              "      fill: #FFFFFF;\n",
              "    }\n",
              "  </style>\n",
              "\n",
              "      <script>\n",
              "        const buttonEl =\n",
              "          document.querySelector('#df-1e85b3cc-3ace-4064-92f7-3f807daff93a button.colab-df-convert');\n",
              "        buttonEl.style.display =\n",
              "          google.colab.kernel.accessAllowed ? 'block' : 'none';\n",
              "\n",
              "        async function convertToInteractive(key) {\n",
              "          const element = document.querySelector('#df-1e85b3cc-3ace-4064-92f7-3f807daff93a');\n",
              "          const dataTable =\n",
              "            await google.colab.kernel.invokeFunction('convertToInteractive',\n",
              "                                                     [key], {});\n",
              "          if (!dataTable) return;\n",
              "\n",
              "          const docLinkHtml = 'Like what you see? Visit the ' +\n",
              "            '<a target=\"_blank\" href=https://colab.research.google.com/notebooks/data_table.ipynb>data table notebook</a>'\n",
              "            + ' to learn more about interactive tables.';\n",
              "          element.innerHTML = '';\n",
              "          dataTable['output_type'] = 'display_data';\n",
              "          await google.colab.output.renderOutput(dataTable, element);\n",
              "          const docLink = document.createElement('div');\n",
              "          docLink.innerHTML = docLinkHtml;\n",
              "          element.appendChild(docLink);\n",
              "        }\n",
              "      </script>\n",
              "    </div>\n",
              "  </div>\n",
              "  "
            ],
            "text/plain": [
              "   f1   f2  f3  f4  f5    f6     f7  f8  T\n",
              "0   6  148  72  35   0  33.6  0.627  50  1\n",
              "1   1   85  66  29   0  26.6  0.351  31  0"
            ]
          },
          "metadata": {},
          "execution_count": 12
        }
      ]
    },
    {
      "cell_type": "code",
      "source": [
        "dataset.shape"
      ],
      "metadata": {
        "colab": {
          "base_uri": "https://localhost:8080/"
        },
        "id": "lK1cf3n0aFj5",
        "outputId": "d9718308-a978-4cbe-f315-ae45728a2f99"
      },
      "execution_count": 43,
      "outputs": [
        {
          "output_type": "execute_result",
          "data": {
            "text/plain": [
              "(768, 9)"
            ]
          },
          "metadata": {},
          "execution_count": 43
        }
      ]
    },
    {
      "cell_type": "code",
      "source": [
        "# split into input (X) and output (Y) variables\n",
        "X = dataset.iloc[:,0:7]\n",
        "Y = dataset.iloc[:,7]"
      ],
      "metadata": {
        "id": "TZbHiRFPV0S_"
      },
      "execution_count": 14,
      "outputs": []
    },
    {
      "cell_type": "code",
      "source": [
        "from sklearn.model_selection import train_test_split\n",
        "X_train,X_test,y_train,y_test=train_test_split(X,Y,test_size=0.3,random_state=42)"
      ],
      "metadata": {
        "id": "00ThB1tOZd8j"
      },
      "execution_count": 37,
      "outputs": []
    },
    {
      "cell_type": "code",
      "source": [
        "# create model\n",
        "model = Sequential()\n",
        "model.add(Dense(16, input_dim=X.shape[1], activation='relu'))\n",
        "model.add(Dense(12, activation='relu'))\n",
        "model.add(Dense(1, activation='sigmoid'))\n",
        "# Compile model\n",
        "model.compile(loss='binary_crossentropy', optimizer='adam', metrics=['accuracy'])\n"
      ],
      "metadata": {
        "id": "x6wLG-QBXkyo"
      },
      "execution_count": 44,
      "outputs": []
    },
    {
      "cell_type": "code",
      "source": [
        "model.fit(X_train,y_train, epochs=10, batch_size=10)"
      ],
      "metadata": {
        "colab": {
          "base_uri": "https://localhost:8080/"
        },
        "id": "a-cNCZbCZW2I",
        "outputId": "41e54330-3947-4d1e-f2be-33ee8247f9d5"
      },
      "execution_count": 45,
      "outputs": [
        {
          "output_type": "stream",
          "name": "stdout",
          "text": [
            "Epoch 1/10\n",
            "54/54 [==============================] - 1s 2ms/step - loss: 282.0164 - accuracy: 0.0000e+00\n",
            "Epoch 2/10\n",
            "54/54 [==============================] - 0s 2ms/step - loss: -2565.1929 - accuracy: 0.0000e+00\n",
            "Epoch 3/10\n",
            "54/54 [==============================] - 0s 2ms/step - loss: -5817.8618 - accuracy: 0.0000e+00\n",
            "Epoch 4/10\n",
            "54/54 [==============================] - 0s 2ms/step - loss: -13184.9766 - accuracy: 0.0000e+00\n",
            "Epoch 5/10\n",
            "54/54 [==============================] - 0s 2ms/step - loss: -29354.5879 - accuracy: 0.0000e+00\n",
            "Epoch 6/10\n",
            "54/54 [==============================] - 0s 2ms/step - loss: -56361.4258 - accuracy: 0.0000e+00\n",
            "Epoch 7/10\n",
            "54/54 [==============================] - 0s 2ms/step - loss: -97789.2812 - accuracy: 0.0000e+00\n",
            "Epoch 8/10\n",
            "54/54 [==============================] - 0s 2ms/step - loss: -157195.5000 - accuracy: 0.0000e+00\n",
            "Epoch 9/10\n",
            "54/54 [==============================] - 0s 2ms/step - loss: -236519.0156 - accuracy: 0.0000e+00\n",
            "Epoch 10/10\n",
            "54/54 [==============================] - 0s 2ms/step - loss: -337765.5938 - accuracy: 0.0000e+00\n"
          ]
        },
        {
          "output_type": "execute_result",
          "data": {
            "text/plain": [
              "<keras.callbacks.History at 0x7f3aa9ede6d0>"
            ]
          },
          "metadata": {},
          "execution_count": 45
        }
      ]
    },
    {
      "cell_type": "code",
      "source": [
        "# Fit the model\n",
        "history = model.fit(X_train, y_train, validation_data=(X_test,y_test), epochs=10, batch_size=6)\n",
        "# list all data in history\n",
        "print(history.history.keys())"
      ],
      "metadata": {
        "colab": {
          "base_uri": "https://localhost:8080/"
        },
        "id": "6o3yjzaJX5vz",
        "outputId": "0a3ecb4c-19ae-4ed3-bca9-1977cf63bb0b"
      },
      "execution_count": 46,
      "outputs": [
        {
          "output_type": "stream",
          "name": "stdout",
          "text": [
            "Epoch 1/10\n",
            "90/90 [==============================] - 0s 5ms/step - loss: -512092.0000 - accuracy: 0.0000e+00 - val_loss: -649313.2500 - val_accuracy: 0.0000e+00\n",
            "Epoch 2/10\n",
            "90/90 [==============================] - 0s 3ms/step - loss: -791484.1250 - accuracy: 0.0000e+00 - val_loss: -969691.3125 - val_accuracy: 0.0000e+00\n",
            "Epoch 3/10\n",
            "90/90 [==============================] - 0s 2ms/step - loss: -1152293.8750 - accuracy: 0.0000e+00 - val_loss: -1387696.2500 - val_accuracy: 0.0000e+00\n",
            "Epoch 4/10\n",
            "90/90 [==============================] - 0s 2ms/step - loss: -1604837.6250 - accuracy: 0.0000e+00 - val_loss: -1895004.5000 - val_accuracy: 0.0000e+00\n",
            "Epoch 5/10\n",
            "90/90 [==============================] - 0s 3ms/step - loss: -2157118.0000 - accuracy: 0.0000e+00 - val_loss: -2502391.2500 - val_accuracy: 0.0000e+00\n",
            "Epoch 6/10\n",
            "90/90 [==============================] - 0s 3ms/step - loss: -2811130.2500 - accuracy: 0.0000e+00 - val_loss: -3221522.7500 - val_accuracy: 0.0000e+00\n",
            "Epoch 7/10\n",
            "90/90 [==============================] - 0s 3ms/step - loss: -3571523.2500 - accuracy: 0.0000e+00 - val_loss: -4046256.5000 - val_accuracy: 0.0000e+00\n",
            "Epoch 8/10\n",
            "90/90 [==============================] - 0s 2ms/step - loss: -4446838.0000 - accuracy: 0.0000e+00 - val_loss: -4983603.5000 - val_accuracy: 0.0000e+00\n",
            "Epoch 9/10\n",
            "90/90 [==============================] - 0s 3ms/step - loss: -5431345.0000 - accuracy: 0.0000e+00 - val_loss: -6050702.0000 - val_accuracy: 0.0000e+00\n",
            "Epoch 10/10\n",
            "90/90 [==============================] - 0s 2ms/step - loss: -6533293.0000 - accuracy: 0.0000e+00 - val_loss: -7231430.5000 - val_accuracy: 0.0000e+00\n",
            "dict_keys(['loss', 'accuracy', 'val_loss', 'val_accuracy'])\n"
          ]
        }
      ]
    },
    {
      "cell_type": "code",
      "source": [
        "# summarize history for accuracy\n",
        "plt.plot(history.history['accuracy'])\n",
        "plt.plot(history.history['val_accuracy'])\n",
        "plt.title('model accuracy')\n",
        "plt.ylabel('accuracy')\n",
        "plt.xlabel('epoch')\n",
        "plt.legend(['train', 'test'], loc='upper left')\n",
        "plt.show()\n",
        "# summarize history for loss\n",
        "plt.plot(history.history['loss'])\n",
        "plt.plot(history.history['val_loss'])\n",
        "plt.title('model loss')\n",
        "plt.ylabel('loss')\n",
        "plt.xlabel('epoch')\n",
        "plt.legend(['train', 'test'], loc='upper left')\n",
        "plt.show()"
      ],
      "metadata": {
        "colab": {
          "base_uri": "https://localhost:8080/",
          "height": 573
        },
        "id": "0BRaHaVTaQfJ",
        "outputId": "a90f0eca-5252-46d6-b3f6-73f7eae11a6a"
      },
      "execution_count": 47,
      "outputs": [
        {
          "output_type": "display_data",
          "data": {
            "image/png": "[encoded data removed]",
            "text/plain": [
              "<Figure size 432x288 with 1 Axes>"
            ]
          },
          "metadata": {
            "needs_background": "light"
          }
        },
        {
          "output_type": "display_data",
          "data": {
            "image/png": "[encoded data removed]",
            "text/plain": [
              "<Figure size 432x288 with 1 Axes>"
            ]
          },
          "metadata": {
            "needs_background": "light"
          }
        }
      ]
    }
  ]
}